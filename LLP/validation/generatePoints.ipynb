{
 "cells": [
  {
   "cell_type": "code",
   "execution_count": 1,
   "metadata": {},
   "outputs": [],
   "source": [
    "import numpy as np\n",
    "import itertools\n",
    "import os\n",
    "import sys\n",
    "sys.path.append(os.path.expanduser('~/smodels'))\n",
    "from smodels.tools.xsecComputer import XSecComputer, LO\n",
    "from smodels.tools.physicsUnits import TeV"
   ]
  },
  {
   "cell_type": "code",
   "execution_count": 2,
   "metadata": {},
   "outputs": [],
   "source": [
    "mHSCP = np.linspace(25.,3000.,100)"
   ]
  },
  {
   "cell_type": "code",
   "execution_count": 3,
   "metadata": {},
   "outputs": [],
   "source": [
    "# columns = ('msl3','Wsl3')\n",
    "columns = ['msl3']\n",
    "outputFile = 'THSCPM1b_pts_validation.txt'\n",
    "header = '%19s'*len(columns) %tuple(columns)\n",
    "header = header[3:]\n",
    "np.savetxt(outputFile,mHSCP,header=header,fmt = ['     %1.7e']*len(columns))"
   ]
  },
  {
   "cell_type": "code",
   "execution_count": 4,
   "metadata": {},
   "outputs": [],
   "source": [
    "template = 'THSCPM1b_template.slha'\n",
    "with open(template,'r') as f:\n",
    "    lines = f.readlines()\n",
    "iw = [i for i,l in enumerate(lines) if 'DECAY 1000015 1.000000e-30 # Wsl3' in l][0]\n",
    "im = [i for i,l in enumerate(lines) if '1000015 1.00000000E+02 # Msl3' in l][0]\n",
    "\n",
    "\n",
    "widths = np.logspace(-25,-15,30)\n",
    "computer = XSecComputer( LO, 1000, pythiaVersion=8, maycompile=False)\n",
    "for mass in mHSCP:\n",
    "    slhaFile = './slha/THSCPM1b_%1.0f.slha' %(mass)\n",
    "    lines[im] = '  1000015 %1.8E # Msl3 \\n' %mass\n",
    "    with open(slhaFile,'w') as f:\n",
    "        for l in lines: f.write(l)\n",
    "            \n",
    "    xsecs = computer.compute( 8*TeV, slhaFile, unlink=True,\n",
    "                                    loFromSlha=False, pythiacard= './pythia8_stau.cfg')\n",
    "    add = computer.addXSecToFile(xsecs,slhaFile)\n",
    "\n",
    "    for width in widths:\n",
    "        with open(slhaFile,'r') as ff:\n",
    "            newLines = ff.readlines()\n",
    "        \n",
    "        newFile = './slha/THSCPM1b_%1.0f_%1.2e.slha' %(mass,width)\n",
    "        newLines[iw] = 'DECAY 1000015 %1.6e # Wsl3 \\n' %width\n",
    "        with open(newFile,'w') as f:\n",
    "            for l in newLines: f.write(l)\n",
    "    os.remove(slhaFile)"
   ]
  }
 ],
 "metadata": {
  "kernelspec": {
   "display_name": "Python 3",
   "language": "python",
   "name": "python3"
  },
  "language_info": {
   "codemirror_mode": {
    "name": "ipython",
    "version": 3
   },
   "file_extension": ".py",
   "mimetype": "text/x-python",
   "name": "python",
   "nbconvert_exporter": "python",
   "pygments_lexer": "ipython3",
   "version": "3.8.2"
  }
 },
 "nbformat": 4,
 "nbformat_minor": 4
}
